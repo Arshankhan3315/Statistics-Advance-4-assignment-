{
 "cells": [
  {
   "cell_type": "markdown",
   "id": "01a9aafe-0c77-4740-80f9-92edce7108c3",
   "metadata": {},
   "source": [
    "# Statistics Advance-4 Assignment"
   ]
  },
  {
   "cell_type": "markdown",
   "id": "dd737eb7-6574-40ee-96b4-90179c531f20",
   "metadata": {},
   "source": [
    "# Q1: What is the difference between a t-test and a z-test? Provide an example scenario where you would use each type of test."
   ]
  },
  {
   "cell_type": "markdown",
   "id": "f856b6cc-328e-4728-9ca6-853762917ade",
   "metadata": {},
   "source": [
    "# Answer-1-\n",
    "# T-Test:The t-test is used to determine if there is a significant difference between the means of two groups. It's often used when dealing with small sample sizes or when the population standard deviation is unknown."
   ]
  },
  {
   "cell_type": "code",
   "execution_count": 1,
   "id": "7bf851bc-0831-482f-a21d-5d459c6ea32c",
   "metadata": {},
   "outputs": [],
   "source": [
    "import scipy.stats as stats\n",
    "import numpy as np"
   ]
  },
  {
   "cell_type": "code",
   "execution_count": 2,
   "id": "6644bbed-a4f8-45a5-9c90-a7667540c660",
   "metadata": {},
   "outputs": [],
   "source": [
    "group1 = np.array([82, 87, 88, 76, 93])\n",
    "group2 = np.array([75, 78, 80, 85, 77])"
   ]
  },
  {
   "cell_type": "code",
   "execution_count": 3,
   "id": "6df7867b-5654-4c47-9c4f-1f73f193f626",
   "metadata": {},
   "outputs": [],
   "source": [
    "t_statistic, p_value = stats.ttest_ind(group1, group2)"
   ]
  },
  {
   "cell_type": "code",
   "execution_count": 4,
   "id": "84e8cbc0-9fdf-4d63-ae70-5350cadf1ba2",
   "metadata": {},
   "outputs": [
    {
     "name": "stdout",
     "output_type": "stream",
     "text": [
      "T-statistic: 1.8493049574428708\n",
      "P-value: 0.1015849415220146\n"
     ]
    }
   ],
   "source": [
    "print(\"T-statistic:\", t_statistic)\n",
    "print(\"P-value:\", p_value)"
   ]
  },
  {
   "cell_type": "markdown",
   "id": "9cac790f-c14a-483b-bfcf-797fec2e80ab",
   "metadata": {},
   "source": [
    "# Z-Test:\n",
    "# The z-test is used to determine if there is a significant difference between a sample mean and a known population mean when the population standard deviation is known, or when the sample size is large (typically n > 30)."
   ]
  },
  {
   "cell_type": "markdown",
   "id": "4f6af0a7-e6f7-48b8-ae3c-87ee4499703b",
   "metadata": {},
   "source": [
    "# A t-test and a z-test are statistical hypothesis tests used to determine if there is a significant difference between the means of two populations or to assess a sample mean in relation to a population mean. The main difference between them lies in the circumstances under which they are appropriate and the assumptions they make about the data."
   ]
  },
  {
   "cell_type": "code",
   "execution_count": 5,
   "id": "40034591-dfdd-4ce9-aedb-df0ac59fd629",
   "metadata": {},
   "outputs": [],
   "source": [
    "sample_mean = 105 \n",
    "population_mean = 100  \n",
    "population_std = 15  \n",
    "sample_size = 50  "
   ]
  },
  {
   "cell_type": "code",
   "execution_count": 6,
   "id": "cc8524e0-6b47-4bf4-a717-84d7ed185f29",
   "metadata": {},
   "outputs": [
    {
     "name": "stdout",
     "output_type": "stream",
     "text": [
      "Z-statistic: 2.3570226039551585\n",
      "P-value: 0.9907889372729505\n"
     ]
    }
   ],
   "source": [
    "z_statistic = (sample_mean - population_mean) / (population_std / (sample_size ** 0.5))\n",
    "p_value = stats.norm.cdf(z_statistic)  \n",
    "\n",
    "print(\"Z-statistic:\", z_statistic)\n",
    "print(\"P-value:\", p_value)"
   ]
  },
  {
   "cell_type": "markdown",
   "id": "6f322474-8572-4b80-bc16-f67f748d1f19",
   "metadata": {},
   "source": [
    "# Q2: Differentiate between one-tailed and two-tailed tests."
   ]
  },
  {
   "cell_type": "markdown",
   "id": "8e4878b3-13f7-4d5e-bb01-31825a3d938b",
   "metadata": {
    "tags": []
   },
   "source": [
    "# Answer-2-One-tailed and two-tailed tests are terms used in hypothesis testing to define the regions of interest in a distribution and determine the direction of the hypothesis being tested.\n",
    "\n",
    "# One-Tailed Test:In a one-tailed test, the critical region is defined on only one side of the distribution, either the left or the right, depending on the direction specified in the research hypothesis.\n",
    "# It is used when there's a specific expectation or interest in only one direction of the effect (increase or decrease).\n",
    "# Commonly used when researchers are interested in whether a parameter is significantly greater than or less than a particular value.\n",
    "# The null hypothesis (H0) represents no effect or no difference.\n",
    "# The alternative hypothesis (H1) specifies the direction of the effect.\n",
    "# Examples:Testing if a new drug increases average survival time (right-tailed test). Checking if a change in a website's design decreases bounce rates (left-tailed test).\n",
    "# Two-Tailed Test:In a two-tailed test, the critical region is divided into both tails of the distribution, allowing for assessment of the effect in both directions (increase or decrease).\n",
    "# It is used when there's an interest in whether the effect is significant in either direction.\n",
    "# Commonly used when researchers want to determine if a parameter is significantly different from a particular value, but the direction of the difference is not specified.\n",
    "# The null hypothesis (H0) represents no effect or no difference.\n",
    "# The alternative hypothesis (H1) suggests that there is a difference, without specifying the direction.\n",
    "# Examples:Testing if a new drug has any effect on average survival time (two-tailed test).\n",
    "# Checking if a change in a website's design has any effect on bounce rates (two-tailed test)."
   ]
  },
  {
   "cell_type": "markdown",
   "id": "11ffe831-64ec-4024-b98e-de84cee83c55",
   "metadata": {},
   "source": [
    "# Q3: Explain the concept of Type 1 and Type 2 errors in hypothesis testing. Provide an example scenario for each type of error."
   ]
  },
  {
   "cell_type": "markdown",
   "id": "b1bb4295-8430-44d6-8738-50f88bd8d03b",
   "metadata": {},
   "source": [
    "# Answer-3-In hypothesis testing, Type I and Type II errors are potential errors that can occur when accepting or rejecting a null hypothesis based on the sample data.\n",
    "\n",
    "# Type I Error:A Type I error occurs when you reject a true null hypothesis. In other words, you conclude that there is a significant effect or difference when, in fact, there is no such effect or difference.\n",
    "# The significance level (often denoted as α) controls the probability of making a Type I error. Common values for α are 0.05 or 0.01, representing a 5% or 1% chance of a Type I error, respectively.\n",
    "# Example Scenario:Suppose a pharmaceutical company is testing a new drug to determine if it reduces blood pressure. The null hypothesis (H0) is that the drug has no effect on blood pressure. If, based on the study, the researchers incorrectly conclude that the drug does reduce blood pressure (rejecting H0), when in reality it doesn't, that would be a Type I error.\n",
    "\n",
    "# Type II Error:A Type II error occurs when you fail to reject a false null hypothesis. In this case, there is a true effect or difference in the population, but your test fails to detect it, leading you to accept the null hypothesis incorrectly.\n",
    "# The probability of a Type II error is denoted as β. Power of the test (1 - β) is a measure of the test's ability to detect a true effect when it exists.\n",
    "# Example Scenario:Continuing with the drug example, suppose the new drug does, in fact, reduce blood pressure. However, the study fails to detect this effect, and the researchers incorrectly conclude that the drug has no effect (fail to reject H0), which would be a Type II error."
   ]
  },
  {
   "cell_type": "markdown",
   "id": "ccd4b674-8dbe-4c23-839d-fc5070b99d08",
   "metadata": {},
   "source": [
    "# Q4: Explain Bayes's theorem with an example."
   ]
  },
  {
   "cell_type": "markdown",
   "id": "b1a8ed7c-8d2a-47bb-8a08-36974d0bde8d",
   "metadata": {},
   "source": [
    "# Answer-4-Bayes' Theorem is a fundamental principle in probability theory and statistics that describes the probability of an event based on prior knowledge of related events. It's often used to update beliefs or probabilities as new evidence becomes available. The theorem is named after Thomas Bayes, an 18th-century statistician and theologian."
   ]
  },
  {
   "cell_type": "code",
   "execution_count": 7,
   "id": "a8300753-ad47-4bbe-9e9b-cd82eb5fea53",
   "metadata": {},
   "outputs": [],
   "source": [
    "def bayes_theorem(prior_prob, likelihood, marginal_likelihood):\n",
    "    posterior_prob = (likelihood * prior_prob) / marginal_likelihood\n",
    "    return posterior_prob"
   ]
  },
  {
   "cell_type": "code",
   "execution_count": 8,
   "id": "3f5e6389-69e5-4e9f-af12-6387c4691002",
   "metadata": {},
   "outputs": [],
   "source": [
    "prior_prob_disease = 0.01 \n",
    "likelihood_positive_given_disease = 0.95 \n",
    "likelihood_positive_given_no_disease = 0.05  \n",
    "\n",
    "# Calculate marginal likelihood: P(B)\n",
    "marginal_likelihood = (likelihood_positive_given_disease * prior_prob_disease) + \\\n",
    "                      (likelihood_positive_given_no_disease * (1 - prior_prob_disease))"
   ]
  },
  {
   "cell_type": "code",
   "execution_count": 9,
   "id": "18971254-51a2-43f9-b6db-e42bc8daa6b6",
   "metadata": {},
   "outputs": [
    {
     "name": "stdout",
     "output_type": "stream",
     "text": [
      "Probability of having the disease given a positive test result: 0.16101694915254236\n"
     ]
    }
   ],
   "source": [
    "posterior_prob_disease_given_positive_test = bayes_theorem(prior_prob_disease, likelihood_positive_given_disease, marginal_likelihood)\n",
    "\n",
    "print(\"Probability of having the disease given a positive test result:\", posterior_prob_disease_given_positive_test)"
   ]
  },
  {
   "cell_type": "markdown",
   "id": "3aa38ac6-abd7-4738-a64d-83d04f84336a",
   "metadata": {},
   "source": [
    "# Q5: What is a confidence interval? How to calculate the confidence interval, explain with an example."
   ]
  },
  {
   "cell_type": "markdown",
   "id": "75f08bdc-72b1-4986-aebf-0705206446f8",
   "metadata": {},
   "source": [
    "# Answer-5-A confidence interval (CI) is a range of values derived from sample data to estimate an unknown population parameter. It provides a level of confidence (expressed as a percentage) that the true parameter lies within that range. The higher the confidence level, the wider the interval, as it needs to encompass a greater range of possible values"
   ]
  },
  {
   "cell_type": "code",
   "execution_count": 10,
   "id": "9b3c4627-52c6-4adc-be29-cd7ea0fe3162",
   "metadata": {},
   "outputs": [],
   "source": [
    "import math"
   ]
  },
  {
   "cell_type": "code",
   "execution_count": 11,
   "id": "ff75bdfa-4813-4346-9ae7-0b59e3cd1b66",
   "metadata": {},
   "outputs": [],
   "source": [
    "sample_mean = 170 \n",
    "sample_std = 5  \n",
    "sample_size = 50 \n",
    "confidence_level = 0.95  "
   ]
  },
  {
   "cell_type": "code",
   "execution_count": 12,
   "id": "8bfea25d-98a7-4c06-b693-849d396ebc5b",
   "metadata": {},
   "outputs": [],
   "source": [
    "standard_error = sample_std / math.sqrt(sample_size)\n",
    "critical_z = stats.norm.ppf((1 + confidence_level) / 2)\n",
    "margin_of_error = critical_z * standard_error"
   ]
  },
  {
   "cell_type": "code",
   "execution_count": 13,
   "id": "8c9a65fa-d5bd-493d-810d-b861f194ecec",
   "metadata": {},
   "outputs": [
    {
     "name": "stdout",
     "output_type": "stream",
     "text": [
      "Confidence Interval: (168.61, 171.39)\n"
     ]
    }
   ],
   "source": [
    "lower_bound = sample_mean - margin_of_error\n",
    "upper_bound = sample_mean + margin_of_error\n",
    "\n",
    "print(\"Confidence Interval: ({:.2f}, {:.2f})\".format(lower_bound, upper_bound))"
   ]
  },
  {
   "cell_type": "markdown",
   "id": "6325b12a-fe16-4a2c-a481-83b1c043287e",
   "metadata": {},
   "source": [
    "# Q6. Use Bayes' Theorem to calculate the probability of an event occurring given prior knowledge of the event's probability and new evidence. Provide a sample problem and solution."
   ]
  },
  {
   "cell_type": "markdown",
   "id": "f4de69d6-0ab9-48b6-b25f-cb4f58775318",
   "metadata": {},
   "source": [
    "# Answer-6-Suppose you have a deck of cards, and you draw a card at random. The deck has 52 cards, and you know that there are 4 aces in the deck (Event A: drawing an ace). You also know that 8 cards are face cards (Event B: drawing a face card). You draw a card, and it's a face card. What is the probability that it's an ace?"
   ]
  },
  {
   "cell_type": "code",
   "execution_count": 14,
   "id": "b792d041-add6-46f3-af45-c9139c601684",
   "metadata": {},
   "outputs": [],
   "source": [
    "P_A = 4/52  \n",
    "P_B_given_A = 3/4  \n",
    "P_B = 8/52  "
   ]
  },
  {
   "cell_type": "code",
   "execution_count": 15,
   "id": "9835f3c3-fb4b-436e-9e53-e6fe9ad7f52f",
   "metadata": {},
   "outputs": [
    {
     "name": "stdout",
     "output_type": "stream",
     "text": [
      "Probability of drawing an ace given a face card: 0.38\n"
     ]
    }
   ],
   "source": [
    "P_A_given_B = (P_B_given_A * P_A) / P_B\n",
    "\n",
    "print(\"Probability of drawing an ace given a face card: {:.2f}\".format(P_A_given_B))"
   ]
  },
  {
   "cell_type": "markdown",
   "id": "861f1bec-ce81-4992-a233-264bb48d8524",
   "metadata": {},
   "source": [
    "# Q7. Calculate the 95% confidence interval for a sample of data with a mean of 50 and a standard deviation of 5. Interpret the results."
   ]
  },
  {
   "cell_type": "markdown",
   "id": "6e571ec0-a05f-4ac5-a5b9-ae056304ae87",
   "metadata": {},
   "source": [
    "# Answer-7-"
   ]
  },
  {
   "cell_type": "code",
   "execution_count": 16,
   "id": "ff032290-85ec-4d58-8c09-a8a16d69505c",
   "metadata": {},
   "outputs": [],
   "source": [
    "sample_mean = 50  \n",
    "population_std = 5  \n",
    "confidence_level = 0.95 \n",
    "critical_z = 1.96 "
   ]
  },
  {
   "cell_type": "code",
   "execution_count": 17,
   "id": "69d03550-7e78-400f-b6b3-f2de8f7acf5a",
   "metadata": {},
   "outputs": [],
   "source": [
    "margin_of_error = critical_z * (population_std / math.sqrt(1))"
   ]
  },
  {
   "cell_type": "code",
   "execution_count": 18,
   "id": "c7deb1f9-33f3-4d18-90c3-d32ebe9eba31",
   "metadata": {},
   "outputs": [
    {
     "name": "stdout",
     "output_type": "stream",
     "text": [
      "95% Confidence Interval: (40.20, 59.80)\n"
     ]
    }
   ],
   "source": [
    "lower_bound = sample_mean - margin_of_error\n",
    "upper_bound = sample_mean + margin_of_error\n",
    "\n",
    "print(\"95% Confidence Interval: ({:.2f}, {:.2f})\".format(lower_bound, upper_bound))"
   ]
  },
  {
   "cell_type": "markdown",
   "id": "e2100427-a617-4e73-9beb-7e47efb6c196",
   "metadata": {},
   "source": [
    "# Q8. What is the margin of error in a confidence interval? How does sample size affect the margin of error? Provide an example of a scenario where a larger sample size would result in a smaller margin of error."
   ]
  },
  {
   "cell_type": "markdown",
   "id": "572ea711-4312-4649-935c-9f49b1593de6",
   "metadata": {},
   "source": [
    "# Answer-8-The margin of error (MOE) in a confidence interval is the amount by which we expect the sample estimate (e.g., sample mean) to vary from the true population parameter. It quantifies the uncertainty or variability associated with our sample estimate and is a critical component of a confidence interval."
   ]
  },
  {
   "cell_type": "code",
   "execution_count": 19,
   "id": "2d9f6a2b-0ff4-44bd-9fa6-bafa7b2205ac",
   "metadata": {},
   "outputs": [],
   "source": [
    "standard_deviation = 10000  \n",
    "confidence_level = 0.95  \n",
    "sample_size_scenario1 = 100\n",
    "sample_size_scenario2 = 500\n",
    "critical_z = 1.96"
   ]
  },
  {
   "cell_type": "code",
   "execution_count": 20,
   "id": "26a01a55-2f6d-4f6d-b94d-397bf3de33c9",
   "metadata": {},
   "outputs": [
    {
     "name": "stdout",
     "output_type": "stream",
     "text": [
      "Margin of Error for Scenario 1: $1960.00\n",
      "Margin of Error for Scenario 2: $876.54\n"
     ]
    }
   ],
   "source": [
    "margin_of_error_scenario1 = critical_z * (standard_deviation / math.sqrt(sample_size_scenario1))\n",
    "margin_of_error_scenario2 = critical_z * (standard_deviation / math.sqrt(sample_size_scenario2))\n",
    "\n",
    "print(\"Margin of Error for Scenario 1: ${:.2f}\".format(margin_of_error_scenario1))\n",
    "print(\"Margin of Error for Scenario 2: ${:.2f}\".format(margin_of_error_scenario2))"
   ]
  },
  {
   "cell_type": "markdown",
   "id": "7ffeb491-f91c-4e03-90f8-0fe017ac5bd3",
   "metadata": {},
   "source": [
    "# Q9. Calculate the z-score for a data point with a value of 75, a population mean of 70, and a population standard deviation of 5. Interpret the results."
   ]
  },
  {
   "cell_type": "markdown",
   "id": "45e87c9e-85f8-4f89-b3c6-b76f46c3df76",
   "metadata": {},
   "source": [
    "# Answer-9-"
   ]
  },
  {
   "cell_type": "code",
   "execution_count": 22,
   "id": "93248b83-5341-41e2-a323-2c4516a92433",
   "metadata": {},
   "outputs": [],
   "source": [
    "data_point = 75\n",
    "population_mean = 70\n",
    "population_std = 5\n",
    "z_score = (data_point - population_mean) / population_std"
   ]
  },
  {
   "cell_type": "code",
   "execution_count": 23,
   "id": "8d6ca36a-2abc-4fa9-85d2-8cbc505e6318",
   "metadata": {},
   "outputs": [
    {
     "data": {
      "text/plain": [
       "1.0"
      ]
     },
     "execution_count": 23,
     "metadata": {},
     "output_type": "execute_result"
    }
   ],
   "source": [
    "z_score"
   ]
  },
  {
   "cell_type": "markdown",
   "id": "d0c75ea5-d4d5-4c91-8489-1d86743b6d3d",
   "metadata": {},
   "source": [
    "# Q10. In a study of the effectiveness of a new weight loss drug, a sample of 50 participants lost an average of 6 pounds with a standard deviation of 2.5 pounds. Conduct a hypothesis test to determine if the drug is significantly effective at a 95% confidence level using a t-test."
   ]
  },
  {
   "cell_type": "markdown",
   "id": "0d701c48-e600-4638-8d32-6c75de9a4d56",
   "metadata": {},
   "source": [
    "# Answer-10-"
   ]
  },
  {
   "cell_type": "code",
   "execution_count": 25,
   "id": "cbba0ce0-46ba-4877-9f33-868233d23a71",
   "metadata": {},
   "outputs": [],
   "source": [
    "sample_mean = 6  \n",
    "population_mean_null = 0  \n",
    "sample_std = 2.5 \n",
    "sample_size = 50  \n",
    "confidence_level = 0.95  \n",
    "t_statistic = (sample_mean - population_mean_null) / (sample_std / math.sqrt(sample_size))\n",
    "critical_t_value = stats.t.ppf(1 - (1 - confidence_level) / 2, sample_size - 1)"
   ]
  },
  {
   "cell_type": "code",
   "execution_count": 26,
   "id": "559abd1d-f0f7-439a-9ab2-232ef6906f43",
   "metadata": {},
   "outputs": [
    {
     "name": "stdout",
     "output_type": "stream",
     "text": [
      "Reject the null hypothesis. The drug is significantly effective.\n",
      "T-statistic: 16.970562748477143\n",
      "Critical t-value: 2.009575234489209\n"
     ]
    }
   ],
   "source": [
    "if abs(t_statistic) > critical_t_value:\n",
    "    print(\"Reject the null hypothesis. The drug is significantly effective.\")\n",
    "else:\n",
    "    print(\"Fail to reject the null hypothesis. The drug is not significantly effective.\")\n",
    "\n",
    "print(\"T-statistic:\", t_statistic)\n",
    "print(\"Critical t-value:\", critical_t_value)"
   ]
  },
  {
   "cell_type": "markdown",
   "id": "b1c70f49-dfe8-461f-8d45-03a9f5cd5095",
   "metadata": {},
   "source": [
    "# Q11. In a survey of 500 people, 65% reported being satisfied with their current job. Calculate the 95% confidence interval for the true proportion of people who are satisfied with their job."
   ]
  },
  {
   "cell_type": "code",
   "execution_count": 27,
   "id": "3fae5705-261e-4a32-be32-c0098f75b18c",
   "metadata": {},
   "outputs": [],
   "source": [
    "sample_proportion = 0.65  \n",
    "sample_size = 500  \n",
    "confidence_level = 0.95  \n",
    "z_score = 1.96  \n",
    "margin_of_error = z_score * math.sqrt((sample_proportion * (1 - sample_proportion)) / sample_size)\n",
    "\n",
    "lower_bound = sample_proportion - margin_of_error\n",
    "upper_bound = sample_proportion + margin_of_error"
   ]
  },
  {
   "cell_type": "code",
   "execution_count": 28,
   "id": "27d9d495-efc1-46e0-88c4-484ec79e9393",
   "metadata": {},
   "outputs": [
    {
     "name": "stdout",
     "output_type": "stream",
     "text": [
      "95% Confidence Interval: (0.6082, 0.6918)\n"
     ]
    }
   ],
   "source": [
    "print(\"95% Confidence Interval: ({:.4f}, {:.4f})\".format(lower_bound, upper_bound))"
   ]
  },
  {
   "cell_type": "markdown",
   "id": "63ddefb9-a752-444e-a442-765096b8f423",
   "metadata": {},
   "source": [
    "# Q12. A researcher is testing the effectiveness of two different teaching methods on student performance. Sample A has a mean score of 85 with a standard deviation of 6, while sample B has a mean score of 82 with a standard deviation of 5. Conduct a hypothesis test to determine if the two teaching methods have a significant difference in student performance using a t-test with a significance level of 0.01."
   ]
  },
  {
   "cell_type": "markdown",
   "id": "9a8c210e-3755-42a1-9a2c-e64b2144abc0",
   "metadata": {},
   "source": [
    "# Answer-12-"
   ]
  },
  {
   "cell_type": "code",
   "execution_count": 29,
   "id": "211150f4-ae37-41d2-89c2-1a2b2b78d858",
   "metadata": {},
   "outputs": [],
   "source": [
    "mean_A = 85  \n",
    "std_A = 6  \n",
    "sample_size_A = 30  "
   ]
  },
  {
   "cell_type": "code",
   "execution_count": 30,
   "id": "6972ade6-cadf-45e2-9e8a-ea4ea69554f1",
   "metadata": {},
   "outputs": [],
   "source": [
    "mean_B = 82  \n",
    "std_B = 5 \n",
    "sample_size_B = 25  \n",
    "alpha = 0.01\n",
    "t_statistic = (mean_A - mean_B) / math.sqrt((std_A**2 / sample_size_A) + (std_B**2 / sample_size_B))\n",
    "degrees_of_freedom = sample_size_A + sample_size_B - 2\n",
    "critical_t_value = stats.t.ppf(1 - alpha / 2, degrees_of_freedom)"
   ]
  },
  {
   "cell_type": "code",
   "execution_count": 31,
   "id": "00d605f4-a514-493e-8283-d0df2cbb317d",
   "metadata": {},
   "outputs": [
    {
     "name": "stdout",
     "output_type": "stream",
     "text": [
      "Fail to reject the null hypothesis. There is no significant difference in student performance between the teaching methods.\n",
      "T-statistic: 2.0225995873897262\n",
      "Critical t-value: 2.6718226362410027\n"
     ]
    }
   ],
   "source": [
    "if abs(t_statistic) > critical_t_value:\n",
    "    print(\"Reject the null hypothesis. There is a significant difference in student performance between the teaching methods.\")\n",
    "else:\n",
    "    print(\"Fail to reject the null hypothesis. There is no significant difference in student performance between the teaching methods.\")\n",
    "\n",
    "print(\"T-statistic:\", t_statistic)\n",
    "print(\"Critical t-value:\", critical_t_value)"
   ]
  },
  {
   "cell_type": "markdown",
   "id": "a35429ac-38cb-421b-8bec-a77fc100c8c9",
   "metadata": {},
   "source": [
    "# Q13. A population has a mean of 60 and a standard deviation of 8. A sample of 50 observations has a mean of 65. Calculate the 90% confidence interval for the true population mean."
   ]
  },
  {
   "cell_type": "markdown",
   "id": "f57dab1a-ed9f-40c7-843f-c4631b569786",
   "metadata": {},
   "source": [
    "# Answer-13-"
   ]
  },
  {
   "cell_type": "code",
   "execution_count": 32,
   "id": "bf5c115d-d9d8-43eb-a48d-167b04b3685d",
   "metadata": {},
   "outputs": [],
   "source": [
    "sample_mean = 65  \n",
    "population_mean = 60  \n",
    "population_std = 8  \n",
    "sample_size = 50  \n",
    "confidence_level = 0.90  \n",
    "z_score = 1.645  "
   ]
  },
  {
   "cell_type": "code",
   "execution_count": 33,
   "id": "051ab6fb-ed1c-40e8-9632-0f8c4699b996",
   "metadata": {},
   "outputs": [],
   "source": [
    "margin_of_error = z_score * (population_std / math.sqrt(sample_size))\n",
    "lower_bound = sample_mean - margin_of_error\n",
    "upper_bound = sample_mean + margin_of_error"
   ]
  },
  {
   "cell_type": "code",
   "execution_count": 34,
   "id": "c237ec69-bd1b-4b2d-81d8-13a1bae445ed",
   "metadata": {},
   "outputs": [
    {
     "name": "stdout",
     "output_type": "stream",
     "text": [
      "90% Confidence Interval: (63.14, 66.86)\n"
     ]
    }
   ],
   "source": [
    "print(\"90% Confidence Interval: ({:.2f}, {:.2f})\".format(lower_bound, upper_bound))"
   ]
  },
  {
   "cell_type": "markdown",
   "id": "cb265d1c-18f7-4fde-819c-c44c2bed52c5",
   "metadata": {},
   "source": [
    "# Q14. In a study of the effects of caffeine on reaction time, a sample of 30 participants had an average reaction time of 0.25 seconds with a standard deviation of 0.05 seconds. Conduct a hypothesis test to determine if the caffeine has a significant effect on reaction time at a 90% confidence level using a t-test."
   ]
  },
  {
   "cell_type": "markdown",
   "id": "df61c99e-4509-4db7-a024-bd3003365c1d",
   "metadata": {},
   "source": [
    "# Answer-14-"
   ]
  },
  {
   "cell_type": "code",
   "execution_count": 35,
   "id": "eb25a496-1c36-451d-9916-26b6cf9a57a1",
   "metadata": {},
   "outputs": [],
   "source": [
    "sample_mean = 0.25  \n",
    "population_mean_null = 0.25  \n",
    "sample_std = 0.05  \n",
    "sample_size = 30  \n",
    "confidence_level = 0.90  \n",
    "t_statistic = (sample_mean - population_mean_null) / (sample_std / math.sqrt(sample_size))\n",
    "degrees_of_freedom = sample_size - 1\n",
    "critical_t_value = stats.t.ppf(1 - (1 - confidence_level) / 2, degrees_of_freedom)"
   ]
  },
  {
   "cell_type": "code",
   "execution_count": 36,
   "id": "bd73033a-680a-48e3-aaa6-6c119b665c77",
   "metadata": {},
   "outputs": [
    {
     "name": "stdout",
     "output_type": "stream",
     "text": [
      "Fail to reject the null hypothesis. Caffeine does not have a significant effect on reaction time.\n",
      "T-statistic: 0.0\n",
      "Critical t-value: 1.6991270265334972\n"
     ]
    }
   ],
   "source": [
    "if abs(t_statistic) > critical_t_value:\n",
    "    print(\"Reject the null hypothesis. Caffeine has a significant effect on reaction time.\")\n",
    "else:\n",
    "    print(\"Fail to reject the null hypothesis. Caffeine does not have a significant effect on reaction time.\")\n",
    "\n",
    "print(\"T-statistic:\", t_statistic)\n",
    "print(\"Critical t-value:\", critical_t_value)"
   ]
  },
  {
   "cell_type": "markdown",
   "id": "c0ac5904-f942-4169-bbd0-81eaba978da1",
   "metadata": {},
   "source": [
    "# Completed Assignment"
   ]
  }
 ],
 "metadata": {
  "kernelspec": {
   "display_name": "Python 3 (ipykernel)",
   "language": "python",
   "name": "python3"
  },
  "language_info": {
   "codemirror_mode": {
    "name": "ipython",
    "version": 3
   },
   "file_extension": ".py",
   "mimetype": "text/x-python",
   "name": "python",
   "nbconvert_exporter": "python",
   "pygments_lexer": "ipython3",
   "version": "3.10.8"
  }
 },
 "nbformat": 4,
 "nbformat_minor": 5
}
